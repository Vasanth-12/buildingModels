{
 "cells": [
  {
   "cell_type": "code",
   "execution_count": 38,
   "id": "6bbdb2fe",
   "metadata": {},
   "outputs": [],
   "source": [
    "import tensorflow as tf\n",
    "import tensorflow.keras as Keras\n",
    "from tensorflow.keras.layers import Dense, Input\n",
    "from tensorflow.keras.optimizers import Adam\n",
    "\n",
    "import pandas as pd\n",
    "import numpy as np\n",
    "import matplotlib.pyplot as plt\n",
    "\n",
    "import pickle"
   ]
  },
  {
   "cell_type": "code",
   "execution_count": 39,
   "id": "149b869d",
   "metadata": {},
   "outputs": [],
   "source": [
    "def buildModel(inputUnit, hiddenUnit1, hiddenUnit2, noOfClasses):\n",
    "\n",
    "    inputLayer = Input(shape=(inputUnit,))\n",
    "    hiddenLayer1 = Dense(hiddenUnit1, activation='relu')(inputLayer)\n",
    "    hiddenLayer2 = Dense(hiddenUnit2, activation='relu')(hiddenLayer1)\n",
    "    outputLayer = Dense(noOfClasses, activation='softmax')(hiddenLayer2)\n",
    "\n",
    "    model = Keras.Model(\n",
    "        inputs=[inputLayer],\n",
    "        outputs=[outputLayer]\n",
    "    )\n",
    "    \n",
    "    return model"
   ]
  },
  {
   "cell_type": "code",
   "execution_count": 40,
   "id": "345ea611",
   "metadata": {
    "scrolled": true
   },
   "outputs": [
    {
     "name": "stdout",
     "output_type": "stream",
     "text": [
      "Data Processed\n"
     ]
    }
   ],
   "source": [
    "# import the dataset\n",
    "data = pd.read_csv('./mnist_train.csv', header=None)\n",
    "\n",
    "# process the data\n",
    "x = data.iloc[:, 0:-1]\n",
    "x = x/255\n",
    "y = data.iloc[:, -1]\n",
    "print(\"Data Processed\")\n"
   ]
  },
  {
   "cell_type": "code",
   "execution_count": 41,
   "id": "8843144c",
   "metadata": {},
   "outputs": [
    {
     "name": "stdout",
     "output_type": "stream",
     "text": [
      "Model Built and compiled\n",
      "Epoch 1/10\n",
      "1875/1875 [==============================] - 8s 1ms/step - loss: 0.3910 - accuracy: 0.8844\n",
      "Epoch 2/10\n",
      "1875/1875 [==============================] - 2s 1ms/step - loss: 0.2653 - accuracy: 0.9228\n",
      "Epoch 3/10\n",
      "1875/1875 [==============================] - 2s 1ms/step - loss: 0.2413 - accuracy: 0.9304\n",
      "Epoch 4/10\n",
      "1875/1875 [==============================] - 2s 1ms/step - loss: 0.2298 - accuracy: 0.9339\n",
      "Epoch 5/10\n",
      "1875/1875 [==============================] - 2s 1ms/step - loss: 0.2177 - accuracy: 0.9381\n",
      "Epoch 6/10\n",
      "1875/1875 [==============================] - 2s 1ms/step - loss: 0.2132 - accuracy: 0.9399\n",
      "Epoch 7/10\n",
      "1875/1875 [==============================] - 2s 1ms/step - loss: 0.2112 - accuracy: 0.9402\n",
      "Epoch 8/10\n",
      "1875/1875 [==============================] - 2s 1ms/step - loss: 0.2035 - accuracy: 0.9413\n",
      "Epoch 9/10\n",
      "1875/1875 [==============================] - 2s 1ms/step - loss: 0.1997 - accuracy: 0.9442\n",
      "Epoch 10/10\n",
      "1875/1875 [==============================] - 2s 1ms/step - loss: 0.1920 - accuracy: 0.9454\n",
      "Training completed\n"
     ]
    }
   ],
   "source": [
    "lr = 0.01\n",
    "\n",
    "# build DNN model\n",
    "model = buildModel(784, 14, 14, 10)\n",
    "model.compile(loss='sparse_categorical_crossentropy', metrics=['accuracy'], optimizer= Adam(learning_rate=lr))\n",
    "print(\"Model Built and compiled\")\n",
    "\n",
    "# train the model\n",
    "trainingResult = model.fit(x=x, y=y, epochs=10)\n",
    "print(\"Training completed\")"
   ]
  },
  {
   "cell_type": "code",
   "execution_count": 42,
   "id": "f09b9cd4",
   "metadata": {},
   "outputs": [
    {
     "name": "stdout",
     "output_type": "stream",
     "text": [
      "313/313 [==============================] - 9s 1ms/step - loss: 0.2067 - accuracy: 0.9457\n"
     ]
    }
   ],
   "source": [
    "# import test dataset\n",
    "testData = pd.read_csv('./mnist_test.csv', header=None)\n",
    "xTest = testData.iloc[:,0:-1]\n",
    "xTest = xTest/255\n",
    "yTest = testData.iloc[:,-1]\n",
    "\n",
    "# evaludate the model\n",
    "validationResult = model.evaluate(x=xTest, y=yTest)"
   ]
  },
  {
   "cell_type": "code",
   "execution_count": 29,
   "id": "84673f8b",
   "metadata": {},
   "outputs": [
    {
     "ename": "AttributeError",
     "evalue": "'list' object has no attribute 'history'",
     "output_type": "error",
     "traceback": [
      "\u001b[1;31m---------------------------------------------------------------------------\u001b[0m",
      "\u001b[1;31mAttributeError\u001b[0m                            Traceback (most recent call last)",
      "\u001b[1;32m<ipython-input-29-8d7e3670a3ae>\u001b[0m in \u001b[0;36m<module>\u001b[1;34m\u001b[0m\n\u001b[0;32m      1\u001b[0m \u001b[1;31m# Visulaization the training and validation loss\u001b[0m\u001b[1;33m\u001b[0m\u001b[1;33m\u001b[0m\u001b[1;33m\u001b[0m\u001b[0m\n\u001b[0;32m      2\u001b[0m \u001b[0mplt\u001b[0m\u001b[1;33m.\u001b[0m\u001b[0mplot\u001b[0m\u001b[1;33m(\u001b[0m\u001b[0mtrainingResult\u001b[0m\u001b[1;33m.\u001b[0m\u001b[0mhistory\u001b[0m\u001b[1;33m[\u001b[0m\u001b[1;34m'loss'\u001b[0m\u001b[1;33m]\u001b[0m\u001b[1;33m,\u001b[0m \u001b[0mlabel\u001b[0m\u001b[1;33m=\u001b[0m\u001b[1;34m'TrainingLoss'\u001b[0m\u001b[1;33m)\u001b[0m\u001b[1;33m\u001b[0m\u001b[1;33m\u001b[0m\u001b[0m\n\u001b[1;32m----> 3\u001b[1;33m \u001b[0mplt\u001b[0m\u001b[1;33m.\u001b[0m\u001b[0mplot\u001b[0m\u001b[1;33m(\u001b[0m\u001b[0mvalidationResult\u001b[0m\u001b[1;33m.\u001b[0m\u001b[0mhistory\u001b[0m\u001b[1;33m[\u001b[0m\u001b[1;34m'loss'\u001b[0m\u001b[1;33m]\u001b[0m\u001b[1;33m,\u001b[0m \u001b[0mlabel\u001b[0m\u001b[1;33m=\u001b[0m\u001b[1;34m'ValidationLoss'\u001b[0m\u001b[1;33m)\u001b[0m\u001b[1;33m\u001b[0m\u001b[1;33m\u001b[0m\u001b[0m\n\u001b[0m\u001b[0;32m      4\u001b[0m \u001b[0mplt\u001b[0m\u001b[1;33m.\u001b[0m\u001b[0mshow\u001b[0m\u001b[1;33m(\u001b[0m\u001b[1;33m)\u001b[0m\u001b[1;33m\u001b[0m\u001b[1;33m\u001b[0m\u001b[0m\n",
      "\u001b[1;31mAttributeError\u001b[0m: 'list' object has no attribute 'history'"
     ]
    },
    {
     "data": {
      "image/png": "[encoded data removed]",
      "text/plain": [
       "<Figure size 432x288 with 1 Axes>"
      ]
     },
     "metadata": {
      "needs_background": "light"
     },
     "output_type": "display_data"
    }
   ],
   "source": [
    "# Visulaization the training and validation loss\n",
    "plt.plot(trainingResult.history['loss'], label='TrainingLoss')\n",
    "plt.plot(validationResult.history['loss'], label='ValidationLoss')\n",
    "plt.show()"
   ]
  },
  {
   "cell_type": "code",
   "execution_count": 44,
   "id": "fdbc4cd8",
   "metadata": {
    "scrolled": true
   },
   "outputs": [
    {
     "name": "stdout",
     "output_type": "stream",
     "text": [
      "INFO:tensorflow:Assets written to: ../../Server/Model/digit_recognition\\assets\n",
      "Model Saved\n",
      "Model loaded\n",
      "313/313 [==============================] - 1s 1ms/step - loss: 0.2067 - accuracy: 0.9457\n"
     ]
    },
    {
     "data": {
      "text/plain": [
       "[0.2066713571548462, 0.9456999897956848]"
      ]
     },
     "execution_count": 44,
     "metadata": {},
     "output_type": "execute_result"
    }
   ],
   "source": [
    "# save the model\n",
    "filename = \"../../Server/Model/digit_recognition\"\n",
    "model.save(filename)\n",
    "print(\"Model Saved\")\n",
    "\n",
    "# load the model\n",
    "savedPickleModel = Keras.models.load_model(filename)\n",
    "print(\"Model loaded\")\n",
    "savedPickleModel.evaluate(x=xTest, y=yTest)"
   ]
  },
  {
   "cell_type": "code",
   "execution_count": null,
   "id": "72097a08",
   "metadata": {},
   "outputs": [],
   "source": []
  }
 ],
 "metadata": {
  "kernelspec": {
   "display_name": "Python 3",
   "language": "python",
   "name": "python3"
  },
  "language_info": {
   "codemirror_mode": {
    "name": "ipython",
    "version": 3
   },
   "file_extension": ".py",
   "mimetype": "text/x-python",
   "name": "python",
   "nbconvert_exporter": "python",
   "pygments_lexer": "ipython3",
   "version": "3.7.10"
  }
 },
 "nbformat": 4,
 "nbformat_minor": 5
}
