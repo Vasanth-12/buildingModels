{
 "cells": [
  {
   "cell_type": "code",
   "execution_count": 1,
   "id": "5e0d2c4c",
   "metadata": {},
   "outputs": [
    {
     "name": "stderr",
     "output_type": "stream",
     "text": [
      "[nltk_data] Downloading package treebank to\n",
      "[nltk_data]     C:\\Users\\Administrator\\AppData\\Roaming\\nltk_data...\n",
      "[nltk_data]   Package treebank is already up-to-date!\n"
     ]
    },
    {
     "data": {
      "text/plain": [
       "True"
      ]
     },
     "execution_count": 1,
     "metadata": {},
     "output_type": "execute_result"
    }
   ],
   "source": [
    "import nltk\n",
    "nltk.download('treebank')\n"
   ]
  },
  {
   "cell_type": "code",
   "execution_count": 2,
   "id": "f710b041",
   "metadata": {},
   "outputs": [],
   "source": [
    "from nltk.corpus import brown\n",
    "import re\n",
    "import numpy as np"
   ]
  },
  {
   "cell_type": "code",
   "execution_count": 3,
   "id": "efb7d13c",
   "metadata": {},
   "outputs": [],
   "source": [
    "removeNonWords = re.compile(r'\\W')"
   ]
  },
  {
   "cell_type": "code",
   "execution_count": 16,
   "id": "83f08f14",
   "metadata": {},
   "outputs": [],
   "source": [
    "states = {}\n",
    "observables = {}"
   ]
  },
  {
   "cell_type": "code",
   "execution_count": 17,
   "id": "c662be03",
   "metadata": {},
   "outputs": [
    {
     "name": "stdout",
     "output_type": "stream",
     "text": [
      "countObservables:  55640\n",
      "countStates:  11\n"
     ]
    }
   ],
   "source": [
    "countStates = 1\n",
    "countObservables = 0\n",
    "\n",
    "for taggedSentence in brown.tagged_sents(tagset='universal'):\n",
    "    for token in taggedSentence:\n",
    "        word = token[0]\n",
    "        if removeNonWords.match(word):\n",
    "            continue\n",
    "        if states.get(token[1]) == None:\n",
    "            states[token[1]] = countStates\n",
    "            countStates += 1\n",
    "        if observables.get(word) == None:\n",
    "            observables[word] = countObservables\n",
    "            countObservables += 1\n",
    "    \n",
    "print(\"countObservables: \", countObservables)\n",
    "print(\"countStates: \", countStates)\n",
    "#print(\"states: \",states)\n",
    "#print(\"observables: \",observables)\n",
    "    "
   ]
  },
  {
   "cell_type": "code",
   "execution_count": null,
   "id": "38d9b864",
   "metadata": {},
   "outputs": [],
   "source": [
    "countObservables:  56032\n",
    "countStates:  456"
   ]
  },
  {
   "cell_type": "code",
   "execution_count": 18,
   "id": "8513d23f",
   "metadata": {},
   "outputs": [],
   "source": [
    "removeNonWords.match(\"there's,\")"
   ]
  },
  {
   "cell_type": "code",
   "execution_count": 19,
   "id": "b5abf1cd",
   "metadata": {},
   "outputs": [],
   "source": [
    "transitionMatrix = np.zeros((countStates, countStates))\n",
    "emissionMatrix = np.zeros((countStates, countObservables))"
   ]
  },
  {
   "cell_type": "code",
   "execution_count": 20,
   "id": "5361a8f0",
   "metadata": {},
   "outputs": [],
   "source": [
    "for taggedSentence in brown.tagged_sents(tagset='universal'):\n",
    "    previousState = 0\n",
    "    for token in taggedSentence:\n",
    "        word = token[0]\n",
    "        if removeNonWords.match(word):\n",
    "            continue\n",
    "        wordIndex = observables[word]\n",
    "        stateIndex = states[token[1]]\n",
    "        \n",
    "        transitionMatrix[previousState][stateIndex] += 1\n",
    "        emissionMatrix[stateIndex][wordIndex] += 1\n",
    "        \n",
    "        previousState = stateIndex\n",
    "        "
   ]
  },
  {
   "cell_type": "code",
   "execution_count": 21,
   "id": "400fbe86",
   "metadata": {},
   "outputs": [
    {
     "name": "stdout",
     "output_type": "stream",
     "text": [
      "DET\tNOUN\tADJ\tVERB\tADP\tADV\tCONJ\tPRT\tPRON\tNUM\tX\t"
     ]
    }
   ],
   "source": [
    "for tag in states.keys():\n",
    "    print(tag, end=\"\\t\")"
   ]
  },
  {
   "cell_type": "code",
   "execution_count": 22,
   "id": "e88a38bb",
   "metadata": {},
   "outputs": [
    {
     "name": "stdout",
     "output_type": "stream",
     "text": [
      "7258.0,\t0.0,\t0.0,\t0.0,\t0.0,\t0.0,\t0.0,\t3529.0,\t0.0,\t0.0,\t0.0,\t\n",
      "0.0,\t17.0,\t85.0,\t0.0,\t4.0,\t0.0,\t60.0,\t0.0,\t43.0,\t0.0,\t4.0,\t\n",
      "0.0,\t0.0,\t0.0,\t15.0,\t0.0,\t0.0,\t0.0,\t0.0,\t0.0,\t0.0,\t0.0,\t\n",
      "0.0,\t0.0,\t0.0,\t0.0,\t0.0,\t1943.0,\t0.0,\t0.0,\t0.0,\t0.0,\t0.0,\t\n",
      "0.0,\t0.0,\t0.0,\t0.0,\t0.0,\t0.0,\t0.0,\t0.0,\t0.0,\t36078.0,\t0.0,\t\n",
      "0.0,\t0.0,\t0.0,\t0.0,\t0.0,\t0.0,\t0.0,\t0.0,\t0.0,\t0.0,\t0.0,\t\n",
      "0.0,\t0.0,\t0.0,\t0.0,\t0.0,\t0.0,\t0.0,\t11.0,\t0.0,\t0.0,\t0.0,\t\n",
      "0.0,\t0.0,\t0.0,\t0.0,\t0.0,\t0.0,\t0.0,\t0.0,\t0.0,\t0.0,\t0.0,\t\n",
      "0.0,\t0.0,\t0.0,\t0.0,\t0.0,\t0.0,\t0.0,\t0.0,\t0.0,\t0.0,\t0.0,\t\n",
      "0.0,\t0.0,\t0.0,\t0.0,\t0.0,\t0.0,\t0.0,\t0.0,\t0.0,\t0.0,\t0.0,\t\n",
      "0.0,\t0.0,\t0.0,\t3.0,\t0.0,\t0.0,\t0.0,\t2.0,\t0.0,\t2.0,\t0.0,\t\n"
     ]
    }
   ],
   "source": [
    "for i in range(countStates):\n",
    "    for j in range(countStates):\n",
    "        print(emissionMatrix[i][j], end=\",\\t\")\n",
    "    print()"
   ]
  },
  {
   "cell_type": "code",
   "execution_count": 14,
   "id": "32142edb",
   "metadata": {},
   "outputs": [
    {
     "data": {
      "text/plain": [
       "dict_keys(['DET', 'NOUN', 'ADJ', 'VERB', 'ADP', 'ADV', 'CONJ', 'PRT', 'PRON', 'NUM', 'X'])"
      ]
     },
     "execution_count": 14,
     "metadata": {},
     "output_type": "execute_result"
    }
   ],
   "source": [
    "states.keys()"
   ]
  },
  {
   "cell_type": "code",
   "execution_count": null,
   "id": "533ad62c",
   "metadata": {},
   "outputs": [],
   "source": []
  },
  {
   "cell_type": "code",
   "execution_count": null,
   "id": "c176aaeb",
   "metadata": {},
   "outputs": [],
   "source": []
  },
  {
   "cell_type": "code",
   "execution_count": 1,
   "id": "a1d6ae28",
   "metadata": {},
   "outputs": [],
   "source": [
    "def viterbi(states, observables, stationaryTrans, transitionProbability, emissionProbability, inputSent):\n",
    "    \n",
    "    N = len(states.keys())\n",
    "    M = len(inputSent)\n",
    "    \n",
    "    t1 = np.zeros((N,M+1))\n",
    "    t2 = np.zeros((N,M+1))\n",
    "    \n",
    "    y = lambda word:observables.get(word) in inputSent\n",
    "    \n",
    "    for i in range(N):\n",
    "        t1[i][0] = stationaryTrans[i] * emissionProbability[i][y[0]]\n",
    "\n",
    "    x = -1\n",
    "    for j in range(1, M+1):\n",
    "        for i in range(N):\n",
    "            _max = -1000\n",
    "            argmax = -1\n",
    "            for k in range(N):\n",
    "                abc = t1[k][j-1] * transitionProbability[k][i] * emissionProbability[i][y[j]]\n",
    "                if _max < abc:\n",
    "                    _max = abc\n",
    "                    argmax = k\n",
    "            t1[i][j] = _max \n",
    "            t2[i][j] = argmax\n",
    "            x = argmax\n",
    "            \n",
    "    \n",
    "    res = np.zeros((M,+1))\n",
    "    for i in range(M+1, 0, -1):\n",
    "        res[i] = t2[i][x]\n",
    "        x = res[i]\n",
    "        \n",
    "    return res\n",
    "        "
   ]
  },
  {
   "cell_type": "code",
   "execution_count": null,
   "id": "6661ab54",
   "metadata": {},
   "outputs": [],
   "source": []
  },
  {
   "cell_type": "code",
   "execution_count": null,
   "id": "a760716a",
   "metadata": {},
   "outputs": [],
   "source": []
  },
  {
   "cell_type": "code",
   "execution_count": null,
   "id": "5847d722",
   "metadata": {},
   "outputs": [],
   "source": []
  }
 ],
 "metadata": {
  "kernelspec": {
   "display_name": "Python 3",
   "language": "python",
   "name": "python3"
  },
  "language_info": {
   "codemirror_mode": {
    "name": "ipython",
    "version": 3
   },
   "file_extension": ".py",
   "mimetype": "text/x-python",
   "name": "python",
   "nbconvert_exporter": "python",
   "pygments_lexer": "ipython3",
   "version": "3.7.10"
  }
 },
 "nbformat": 4,
 "nbformat_minor": 5
}
