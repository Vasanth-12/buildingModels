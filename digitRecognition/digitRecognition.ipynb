{
 "cells": [
  {
   "cell_type": "code",
   "execution_count": 1,
   "id": "50a2e84b",
   "metadata": {},
   "outputs": [
    {
     "name": "stdout",
     "output_type": "stream",
     "text": [
      "Requirement already satisfied: opendatasets in c:\\programdata\\anaconda3\\lib\\site-packages (0.1.22)\n",
      "Requirement already satisfied: click in c:\\programdata\\anaconda3\\lib\\site-packages (from opendatasets) (8.0.1)\n",
      "Requirement already satisfied: kaggle in c:\\programdata\\anaconda3\\lib\\site-packages (from opendatasets) (1.5.12)\n",
      "Requirement already satisfied: tqdm in c:\\programdata\\anaconda3\\lib\\site-packages (from opendatasets) (4.61.1)\n",
      "Requirement already satisfied: colorama in c:\\programdata\\anaconda3\\lib\\site-packages (from click->opendatasets) (0.4.4)\n",
      "Requirement already satisfied: importlib-metadata in c:\\programdata\\anaconda3\\lib\\site-packages (from click->opendatasets) (4.10.0)\n",
      "Requirement already satisfied: requests in c:\\programdata\\anaconda3\\lib\\site-packages (from kaggle->opendatasets) (2.26.0)\n",
      "Requirement already satisfied: python-dateutil in c:\\programdata\\anaconda3\\lib\\site-packages (from kaggle->opendatasets) (2.8.1)\n",
      "Requirement already satisfied: six>=1.10 in c:\\programdata\\anaconda3\\lib\\site-packages (from kaggle->opendatasets) (1.16.0)\n",
      "Requirement already satisfied: python-slugify in c:\\programdata\\anaconda3\\lib\\site-packages (from kaggle->opendatasets) (7.0.0)\n",
      "Requirement already satisfied: certifi in c:\\programdata\\anaconda3\\lib\\site-packages (from kaggle->opendatasets) (2021.10.8)\n",
      "Requirement already satisfied: urllib3 in c:\\programdata\\anaconda3\\lib\\site-packages (from kaggle->opendatasets) (1.26.7)\n",
      "Requirement already satisfied: typing-extensions>=3.6.4 in c:\\programdata\\anaconda3\\lib\\site-packages (from importlib-metadata->click->opendatasets) (4.0.1)\n",
      "Requirement already satisfied: zipp>=0.5 in c:\\programdata\\anaconda3\\lib\\site-packages (from importlib-metadata->click->opendatasets) (3.6.0)\n",
      "Requirement already satisfied: text-unidecode>=1.3 in c:\\programdata\\anaconda3\\lib\\site-packages (from python-slugify->kaggle->opendatasets) (1.3)\n",
      "Requirement already satisfied: charset-normalizer~=2.0.0 in c:\\programdata\\anaconda3\\lib\\site-packages (from requests->kaggle->opendatasets) (2.0.9)\n",
      "Requirement already satisfied: idna<4,>=2.5 in c:\\programdata\\anaconda3\\lib\\site-packages (from requests->kaggle->opendatasets) (3.3)\n"
     ]
    },
    {
     "name": "stderr",
     "output_type": "stream",
     "text": [
      "WARNING: Ignoring invalid distribution -5py (c:\\programdata\\anaconda3\\lib\\site-packages)\n",
      "WARNING: Ignoring invalid distribution -5py (c:\\programdata\\anaconda3\\lib\\site-packages)\n",
      "WARNING: Ignoring invalid distribution -5py (c:\\programdata\\anaconda3\\lib\\site-packages)\n",
      "WARNING: Ignoring invalid distribution -5py (c:\\programdata\\anaconda3\\lib\\site-packages)\n",
      "WARNING: Ignoring invalid distribution -5py (c:\\programdata\\anaconda3\\lib\\site-packages)\n",
      "WARNING: Ignoring invalid distribution -5py (c:\\programdata\\anaconda3\\lib\\site-packages)\n"
     ]
    }
   ],
   "source": [
    "!pip install opendatasets"
   ]
  },
  {
   "cell_type": "code",
   "execution_count": 2,
   "id": "6bbdb2fe",
   "metadata": {},
   "outputs": [],
   "source": [
    "import tensorflow as tf\n",
    "import tensorflow.keras as Keras\n",
    "from tensorflow.keras.layers import Dense, Input\n",
    "from tensorflow.keras.optimizers import Adam\n",
    "\n",
    "import pandas as pd\n",
    "import numpy as np\n",
    "import matplotlib.pyplot as plt\n",
    "from sklearn.model_selection import train_test_split\n",
    "\n",
    "# for downloading dataset\n",
    "import opendatasets as od"
   ]
  },
  {
   "cell_type": "code",
   "execution_count": 3,
   "id": "149b869d",
   "metadata": {},
   "outputs": [],
   "source": [
    "def buildModel(inputUnit, hiddenUnit1, hiddenUnit2, noOfClasses):\n",
    "\n",
    "    inputLayer = Input(shape=(inputUnit,))\n",
    "    hiddenLayer1 = Dense(hiddenUnit1, activation='relu')(inputLayer)\n",
    "    hiddenLayer2 = Dense(hiddenUnit2, activation='relu')(hiddenLayer1)\n",
    "    outputLayer = Dense(noOfClasses, activation='softmax')(hiddenLayer2)\n",
    "\n",
    "    model = Keras.Model(\n",
    "        inputs=[inputLayer],\n",
    "        outputs=[outputLayer]\n",
    "    )\n",
    "    \n",
    "    return model"
   ]
  },
  {
   "cell_type": "code",
   "execution_count": 4,
   "id": "1acb8408",
   "metadata": {
    "scrolled": true
   },
   "outputs": [
    {
     "name": "stdout",
     "output_type": "stream",
     "text": [
      "Skipping, found downloaded files in \".\\digit-recognizer\" (use force=True to force download)\n"
     ]
    }
   ],
   "source": [
    "url = 'https://www.kaggle.com/competitions/digit-recognizer/data?select=train.csv';\n",
    "urlDataset = od.download(url)"
   ]
  },
  {
   "cell_type": "code",
   "execution_count": 5,
   "id": "8792ab49",
   "metadata": {},
   "outputs": [],
   "source": [
    "data = pd.read_csv('./digit-recognizer/train.csv')"
   ]
  },
  {
   "cell_type": "code",
   "execution_count": 6,
   "id": "345ea611",
   "metadata": {
    "scrolled": true
   },
   "outputs": [
    {
     "name": "stdout",
     "output_type": "stream",
     "text": [
      "(42000, 784)\n",
      "(42000,)\n",
      "Data Processed\n"
     ]
    }
   ],
   "source": [
    "# process the data\n",
    "x = data.iloc[:, 1:]\n",
    "print(x.shape)\n",
    "\n",
    "x = x/255\n",
    "y = data.iloc[:, 0]\n",
    "print(y.shape)\n",
    "\n",
    "print(\"Data Processed\")"
   ]
  },
  {
   "cell_type": "code",
   "execution_count": 7,
   "id": "01f0716d",
   "metadata": {},
   "outputs": [
    {
     "name": "stdout",
     "output_type": "stream",
     "text": [
      "(33600, 784)  ->  (33600,)\n",
      "(8400, 784)  ->  (8400,)\n"
     ]
    }
   ],
   "source": [
    "Xtrain, Xtest, ytrain, ytest = train_test_split(x, y, test_size=0.2)\n",
    "\n",
    "print(Xtrain.shape,' -> ',ytrain.shape)\n",
    "print(Xtest.shape,' -> ',ytest.shape)"
   ]
  },
  {
   "cell_type": "code",
   "execution_count": 8,
   "id": "5166c71f",
   "metadata": {},
   "outputs": [
    {
     "name": "stdout",
     "output_type": "stream",
     "text": [
      "Model Built and compiled\n",
      "Epoch 1/10\n",
      "1050/1050 [==============================] - 2s 1ms/step - loss: 0.4200 - accuracy: 0.8737: 1s - loss: 0.7623 - accuracy: 0.76 - ETA: 1s - loss: 0.7129 - accu - ETA: 0s -\n",
      "Epoch 2/10\n",
      "1050/1050 [==============================] - 1s 1ms/step - loss: 0.2786 - accuracy: 0.9171: 0s - loss: 0.2786 - accuracy\n",
      "Epoch 3/10\n",
      "1050/1050 [==============================] - 1s 1ms/step - loss: 0.2517 - accuracy: 0.9247\n",
      "Epoch 4/10\n",
      "1050/1050 [==============================] - 1s 1ms/step - loss: 0.2366 - accuracy: 0.9316\n",
      "Epoch 5/10\n",
      "1050/1050 [==============================] - 1s 1ms/step - loss: 0.2252 - accuracy: 0.9341\n",
      "Epoch 6/10\n",
      "1050/1050 [==============================] - 1s 1ms/step - loss: 0.2223 - accuracy: 0.9346\n",
      "Epoch 7/10\n",
      "1050/1050 [==============================] - 1s 1ms/step - loss: 0.2077 - accuracy: 0.9389\n",
      "Epoch 8/10\n",
      "1050/1050 [==============================] - 1s 1ms/step - loss: 0.2057 - accuracy: 0.9400\n",
      "Epoch 9/10\n",
      "1050/1050 [==============================] - 1s 1ms/step - loss: 0.2019 - accuracy: 0.9411\n",
      "Epoch 10/10\n",
      "1050/1050 [==============================] - 2s 1ms/step - loss: 0.1999 - accuracy: 0.9413\n",
      "Training completed\n"
     ]
    }
   ],
   "source": [
    "lr = 0.01\n",
    "\n",
    "# build DNN model\n",
    "model = buildModel(784, 14, 14, 10)\n",
    "model.compile(loss='sparse_categorical_crossentropy', metrics=['accuracy'], optimizer= Adam(learning_rate=lr))\n",
    "print(\"Model Built and compiled\")\n",
    "\n",
    "# train the model\n",
    "trainingResult = model.fit(x=Xtrain, y=ytrain, epochs=10)\n",
    "print(\"Training completed\")"
   ]
  },
  {
   "cell_type": "code",
   "execution_count": 9,
   "id": "3b111480",
   "metadata": {},
   "outputs": [
    {
     "name": "stdout",
     "output_type": "stream",
     "text": [
      "263/263 [==============================] - 1s 1ms/step - loss: 0.2418 - accuracy: 0.9314\n"
     ]
    }
   ],
   "source": [
    "# evaludate the model\n",
    "validationResult = model.evaluate(x=Xtest, y=ytest)"
   ]
  },
  {
   "cell_type": "code",
   "execution_count": 10,
   "id": "78f70f7d",
   "metadata": {},
   "outputs": [
    {
     "ename": "AttributeError",
     "evalue": "'list' object has no attribute 'history'",
     "output_type": "error",
     "traceback": [
      "\u001b[1;31m---------------------------------------------------------------------------\u001b[0m",
      "\u001b[1;31mAttributeError\u001b[0m                            Traceback (most recent call last)",
      "\u001b[1;32m<ipython-input-10-8d7e3670a3ae>\u001b[0m in \u001b[0;36m<module>\u001b[1;34m\u001b[0m\n\u001b[0;32m      1\u001b[0m \u001b[1;31m# Visulaization the training and validation loss\u001b[0m\u001b[1;33m\u001b[0m\u001b[1;33m\u001b[0m\u001b[1;33m\u001b[0m\u001b[0m\n\u001b[0;32m      2\u001b[0m \u001b[0mplt\u001b[0m\u001b[1;33m.\u001b[0m\u001b[0mplot\u001b[0m\u001b[1;33m(\u001b[0m\u001b[0mtrainingResult\u001b[0m\u001b[1;33m.\u001b[0m\u001b[0mhistory\u001b[0m\u001b[1;33m[\u001b[0m\u001b[1;34m'loss'\u001b[0m\u001b[1;33m]\u001b[0m\u001b[1;33m,\u001b[0m \u001b[0mlabel\u001b[0m\u001b[1;33m=\u001b[0m\u001b[1;34m'TrainingLoss'\u001b[0m\u001b[1;33m)\u001b[0m\u001b[1;33m\u001b[0m\u001b[1;33m\u001b[0m\u001b[0m\n\u001b[1;32m----> 3\u001b[1;33m \u001b[0mplt\u001b[0m\u001b[1;33m.\u001b[0m\u001b[0mplot\u001b[0m\u001b[1;33m(\u001b[0m\u001b[0mvalidationResult\u001b[0m\u001b[1;33m.\u001b[0m\u001b[0mhistory\u001b[0m\u001b[1;33m[\u001b[0m\u001b[1;34m'loss'\u001b[0m\u001b[1;33m]\u001b[0m\u001b[1;33m,\u001b[0m \u001b[0mlabel\u001b[0m\u001b[1;33m=\u001b[0m\u001b[1;34m'ValidationLoss'\u001b[0m\u001b[1;33m)\u001b[0m\u001b[1;33m\u001b[0m\u001b[1;33m\u001b[0m\u001b[0m\n\u001b[0m\u001b[0;32m      4\u001b[0m \u001b[0mplt\u001b[0m\u001b[1;33m.\u001b[0m\u001b[0mshow\u001b[0m\u001b[1;33m(\u001b[0m\u001b[1;33m)\u001b[0m\u001b[1;33m\u001b[0m\u001b[1;33m\u001b[0m\u001b[0m\n",
      "\u001b[1;31mAttributeError\u001b[0m: 'list' object has no attribute 'history'"
     ]
    },
    {
     "data": {
      "image/png": "[encoded data removed]",
      "text/plain": [
       "<Figure size 432x288 with 1 Axes>"
      ]
     },
     "metadata": {
      "needs_background": "light"
     },
     "output_type": "display_data"
    }
   ],
   "source": [
    "# Visulaization the training and validation loss\n",
    "plt.plot(trainingResult.history['loss'], label='TrainingLoss')\n",
    "plt.plot(validationResult.history['loss'], label='ValidationLoss')\n",
    "plt.show()"
   ]
  },
  {
   "cell_type": "code",
   "execution_count": 11,
   "id": "fb1d9f5f",
   "metadata": {
    "scrolled": true
   },
   "outputs": [
    {
     "name": "stdout",
     "output_type": "stream",
     "text": [
      "INFO:tensorflow:Assets written to: ../../Server/Model/digit_recognition\\assets\n",
      "Model Saved\n",
      "Model loaded\n",
      "263/263 [==============================] - 0s 1ms/step - loss: 0.2418 - accuracy: 0.9314\n"
     ]
    },
    {
     "data": {
      "text/plain": [
       "[0.2417830526828766, 0.9314285516738892]"
      ]
     },
     "execution_count": 11,
     "metadata": {},
     "output_type": "execute_result"
    }
   ],
   "source": [
    "# save the model\n",
    "filename = \"../../Server/Model/digit_recognition\"\n",
    "model.save(filename)\n",
    "print(\"Model Saved\")\n",
    "\n",
    "# load the model\n",
    "savedPickleModel = Keras.models.load_model(filename)\n",
    "print(\"Model loaded\")\n",
    "savedPickleModel.evaluate(x=Xtest, y=ytest)"
   ]
  },
  {
   "cell_type": "code",
   "execution_count": null,
   "id": "03a71cf4",
   "metadata": {},
   "outputs": [],
   "source": []
  },
  {
   "cell_type": "code",
   "execution_count": null,
   "id": "61a76dc0",
   "metadata": {},
   "outputs": [],
   "source": []
  }
 ],
 "metadata": {
  "kernelspec": {
   "display_name": "Python 3",
   "language": "python",
   "name": "python3"
  },
  "language_info": {
   "codemirror_mode": {
    "name": "ipython",
    "version": 3
   },
   "file_extension": ".py",
   "mimetype": "text/x-python",
   "name": "python",
   "nbconvert_exporter": "python",
   "pygments_lexer": "ipython3",
   "version": "3.7.10"
  }
 },
 "nbformat": 4,
 "nbformat_minor": 5
}
