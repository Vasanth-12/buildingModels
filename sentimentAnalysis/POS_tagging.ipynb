{
 "cells": [
  {
   "cell_type": "code",
   "execution_count": 14,
   "id": "5e0d2c4c",
   "metadata": {},
   "outputs": [],
   "source": [
    "import opendatasets as od\n",
    "import numpy as np\n",
    "import re\n",
    "import pandas as pd"
   ]
  },
  {
   "cell_type": "code",
   "execution_count": 13,
   "id": "f710b041",
   "metadata": {},
   "outputs": [
    {
     "name": "stdout",
     "output_type": "stream",
     "text": [
      "Please provide your Kaggle credentials to download this dataset. Learn more: http://bit.ly/kaggle-creds\n",
      "Your Kaggle username: vasanth12\n",
      "Your Kaggle Key: ········\n",
      "Downloading en-partofspeech-tags.zip to .\\en-partofspeech-tags\n"
     ]
    },
    {
     "name": "stderr",
     "output_type": "stream",
     "text": [
      "100%|███████████████████████████████████████████████████████████████████████████████████████████████████████████████████████████| 22.0M/22.0M [00:08<00:00, 2.65MB/s]\n"
     ]
    },
    {
     "name": "stdout",
     "output_type": "stream",
     "text": [
      "\n"
     ]
    }
   ],
   "source": [
    "od.download('https://www.kaggle.com/datasets/atmarouane/en-partofspeech-tags?select=pos_tags.csv')"
   ]
  },
  {
   "cell_type": "code",
   "execution_count": null,
   "id": "f8339d18",
   "metadata": {},
   "outputs": [],
   "source": [
    "data = pd.read_csv('./en-partofspeech-tags/')"
   ]
  },
  {
   "cell_type": "code",
   "execution_count": null,
   "id": "43383e02",
   "metadata": {},
   "outputs": [],
   "source": []
  },
  {
   "cell_type": "code",
   "execution_count": 3,
   "id": "efb7d13c",
   "metadata": {},
   "outputs": [],
   "source": [
    "removeNonWords = re.compile(r'\\W')"
   ]
  },
  {
   "cell_type": "code",
   "execution_count": 4,
   "id": "83f08f14",
   "metadata": {},
   "outputs": [],
   "source": [
    "states = {}\n",
    "observables = {}"
   ]
  },
  {
   "cell_type": "code",
   "execution_count": 5,
   "id": "c662be03",
   "metadata": {},
   "outputs": [
    {
     "name": "stdout",
     "output_type": "stream",
     "text": [
      "countObservables:  55640\n",
      "countStates:  12\n"
     ]
    }
   ],
   "source": [
    "countStates = 1\n",
    "countObservables = 0\n",
    "\n",
    "for taggedSentence in brown.tagged_sents(tagset='universal'):\n",
    "    for token in taggedSentence:\n",
    "        word = token[0]\n",
    "        if removeNonWords.match(word):\n",
    "            continue\n",
    "        if states.get(token[1]) == None:\n",
    "            states[token[1]] = countStates\n",
    "            countStates += 1\n",
    "        if observables.get(word) == None:\n",
    "            observables[word] = countObservables\n",
    "            countObservables += 1\n",
    "    \n",
    "print(\"countObservables: \", countObservables)\n",
    "print(\"countStates: \", countStates)\n",
    "#print(\"states: \",states)\n",
    "#print(\"observables: \",observables)\n",
    "    "
   ]
  },
  {
   "cell_type": "code",
   "execution_count": 6,
   "id": "8513d23f",
   "metadata": {},
   "outputs": [],
   "source": [
    "removeNonWords.match(\"there's,\")"
   ]
  },
  {
   "cell_type": "code",
   "execution_count": 7,
   "id": "b5abf1cd",
   "metadata": {},
   "outputs": [],
   "source": [
    "transitionMatrix = np.zeros((countStates, countStates))\n",
    "emissionMatrix = np.zeros((countStates, countObservables))"
   ]
  },
  {
   "cell_type": "code",
   "execution_count": 8,
   "id": "5361a8f0",
   "metadata": {},
   "outputs": [],
   "source": [
    "for taggedSentence in brown.tagged_sents(tagset='universal'):\n",
    "    previousState = 0\n",
    "    for token in taggedSentence:\n",
    "        word = token[0]\n",
    "        if removeNonWords.match(word):\n",
    "            continue\n",
    "        wordIndex = observables[word]\n",
    "        stateIndex = states[token[1]]\n",
    "        \n",
    "        transitionMatrix[previousState][stateIndex] += 1\n",
    "        emissionMatrix[stateIndex][wordIndex] += 1\n",
    "        \n",
    "        previousState = stateIndex\n",
    "        "
   ]
  },
  {
   "cell_type": "code",
   "execution_count": 9,
   "id": "400fbe86",
   "metadata": {},
   "outputs": [
    {
     "name": "stdout",
     "output_type": "stream",
     "text": [
      "DET -> 1\tNOUN -> 2\tADJ -> 3\tVERB -> 4\tADP -> 5\tADV -> 6\tCONJ -> 7\tPRT -> 8\tPRON -> 9\tNUM -> 10\tX -> 11\t"
     ]
    }
   ],
   "source": [
    "for tag, index in states.items():\n",
    "    print(tag, \"->\",index,end=\"\\t\")"
   ]
  },
  {
   "cell_type": "code",
   "execution_count": 10,
   "id": "e88a38bb",
   "metadata": {},
   "outputs": [
    {
     "name": "stdout",
     "output_type": "stream",
     "text": [
      "0.0,\t0.0,\t0.0,\t0.0,\t0.0,\t0.0,\t0.0,\t0.0,\t0.0,\t0.0,\t0.0,\t0.0,\t\n",
      "7258.0,\t0.0,\t0.0,\t0.0,\t0.0,\t0.0,\t0.0,\t3529.0,\t0.0,\t0.0,\t0.0,\t0.0,\t\n",
      "0.0,\t17.0,\t85.0,\t0.0,\t4.0,\t0.0,\t60.0,\t0.0,\t43.0,\t0.0,\t4.0,\t0.0,\t\n",
      "0.0,\t0.0,\t0.0,\t15.0,\t0.0,\t0.0,\t0.0,\t0.0,\t0.0,\t0.0,\t0.0,\t167.0,\t\n",
      "0.0,\t0.0,\t0.0,\t0.0,\t0.0,\t1943.0,\t0.0,\t0.0,\t0.0,\t0.0,\t0.0,\t0.0,\t\n",
      "0.0,\t0.0,\t0.0,\t0.0,\t0.0,\t0.0,\t0.0,\t0.0,\t0.0,\t36078.0,\t0.0,\t0.0,\t\n",
      "0.0,\t0.0,\t0.0,\t0.0,\t0.0,\t0.0,\t0.0,\t0.0,\t0.0,\t0.0,\t0.0,\t0.0,\t\n",
      "0.0,\t0.0,\t0.0,\t0.0,\t0.0,\t0.0,\t0.0,\t11.0,\t0.0,\t0.0,\t0.0,\t0.0,\t\n",
      "0.0,\t0.0,\t0.0,\t0.0,\t0.0,\t0.0,\t0.0,\t0.0,\t0.0,\t0.0,\t0.0,\t0.0,\t\n",
      "0.0,\t0.0,\t0.0,\t0.0,\t0.0,\t0.0,\t0.0,\t0.0,\t0.0,\t0.0,\t0.0,\t0.0,\t\n",
      "0.0,\t0.0,\t0.0,\t0.0,\t0.0,\t0.0,\t0.0,\t0.0,\t0.0,\t0.0,\t0.0,\t0.0,\t\n",
      "0.0,\t0.0,\t0.0,\t3.0,\t0.0,\t0.0,\t0.0,\t2.0,\t0.0,\t2.0,\t0.0,\t0.0,\t\n"
     ]
    }
   ],
   "source": [
    "for i in range(countStates):\n",
    "    for j in range(countStates):\n",
    "        print(emissionMatrix[i][j], end=\",\\t\")\n",
    "    print()"
   ]
  },
  {
   "cell_type": "code",
   "execution_count": 14,
   "id": "32142edb",
   "metadata": {},
   "outputs": [
    {
     "data": {
      "text/plain": [
       "dict_keys(['DET', 'NOUN', 'ADJ', 'VERB', 'ADP', 'ADV', 'CONJ', 'PRT', 'PRON', 'NUM', 'X'])"
      ]
     },
     "execution_count": 14,
     "metadata": {},
     "output_type": "execute_result"
    }
   ],
   "source": [
    "states.keys()"
   ]
  },
  {
   "cell_type": "markdown",
   "id": "1cfc5515",
   "metadata": {},
   "source": [
    "# simple example of Viterbi Algorithm\n",
    "\n",
    "import numpy as np\n",
    "\n",
    "obs = {\n",
    "    \"normal\": 0, \n",
    "    \"cold\": 1, \n",
    "    \"dizzy\": 2\n",
    "}\n",
    "\n",
    "states = {\n",
    "    \"Healthy\": 0,\n",
    "    \"Fever\": 1\n",
    "}\n",
    "\n",
    "start_p = [0.6, 0.4]\n",
    "\n",
    "trans_p = np.array([[0.7, 0.3], [0.4, 0.6]])\n",
    "\n",
    "emit_p = np.array([[0.5, 0.4, 0.1], [0.1, 0.3, 0.6]])\n",
    "\n",
    "inputObs = ['normal', 'normal', 'dizzy']\n",
    "\n",
    "res = viterbi(states, obs, start_p, trans_p, emit_p, inputObs)\n",
    "\n",
    "print(res)\n",
    "##### [0, 0, 1,]\n"
   ]
  },
  {
   "cell_type": "code",
   "execution_count": 29,
   "id": "da9029fe",
   "metadata": {},
   "outputs": [],
   "source": [
    "def viterbi(states, observables, stationaryTrans, transitionProbability, emissionProbability, inputSent):\n",
    "    \n",
    "    N = len(states.keys())\n",
    "    M = len(inputSent)\n",
    "    \n",
    "    t1 = np.zeros((N,M+1))\n",
    "    t2 = np.zeros((N,M+1))\n",
    "    \n",
    "    #y = lambda word:observables.get(word) in inputSent\n",
    "    y = []\n",
    "    for obs in inputSent:\n",
    "        y.append(observables[obs])\n",
    "    \n",
    "    for i in range(N):\n",
    "        t1[i][0] = stationaryTrans[i] * emissionProbability[i][y[0]]\n",
    "\n",
    "    x = -1\n",
    "    for j in range(1, M+1):\n",
    "        for i in range(N):\n",
    "            _max = -1000\n",
    "            argmax = -1\n",
    "            for k in range(N):\n",
    "                try:\n",
    "                    abc = t1[k][j-1] * transitionProbability[k][i] * emissionProbability[i][y[j]]\n",
    "                    if _max < abc:\n",
    "                        _max = abc\n",
    "                        argmax = k\n",
    "                except:\n",
    "                    abc = t1[k][j-1]\n",
    "                    if _max < abc:\n",
    "                        _max = abc\n",
    "                        argmax = k\n",
    "            t1[i][j] = _max \n",
    "            t2[i][j] = argmax\n",
    "            x = argmax\n",
    "            \n",
    "    res = np.zeros(M)\n",
    "    for i in range(M, 0, -1):\n",
    "        res[i-1] = t2[x][i]\n",
    "        x = int(res[i-1])\n",
    "        \n",
    "    return res\n",
    "        "
   ]
  },
  {
   "cell_type": "code",
   "execution_count": null,
   "id": "844e33e5",
   "metadata": {},
   "outputs": [],
   "source": []
  },
  {
   "cell_type": "code",
   "execution_count": null,
   "id": "81adedd9",
   "metadata": {},
   "outputs": [],
   "source": []
  },
  {
   "cell_type": "code",
   "execution_count": null,
   "id": "5847d722",
   "metadata": {},
   "outputs": [],
   "source": []
  }
 ],
 "metadata": {
  "kernelspec": {
   "display_name": "Python 3",
   "language": "python",
   "name": "python3"
  },
  "language_info": {
   "codemirror_mode": {
    "name": "ipython",
    "version": 3
   },
   "file_extension": ".py",
   "mimetype": "text/x-python",
   "name": "python",
   "nbconvert_exporter": "python",
   "pygments_lexer": "ipython3",
   "version": "3.7.10"
  }
 },
 "nbformat": 4,
 "nbformat_minor": 5
}
