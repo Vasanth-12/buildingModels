{
 "cells": [
  {
   "cell_type": "code",
   "execution_count": 120,
   "id": "5e0d2c4c",
   "metadata": {},
   "outputs": [],
   "source": [
    "import opendatasets as od\n",
    "import numpy as np\n",
    "import re\n",
    "import pandas as pd"
   ]
  },
  {
   "cell_type": "markdown",
   "id": "1cfc5515",
   "metadata": {},
   "source": [
    "# simple example of Viterbi Algorithm\n",
    "\n",
    "import numpy as np\n",
    "\n",
    "obs = {\n",
    "    \"normal\": 0, \n",
    "    \"cold\": 1, \n",
    "    \"dizzy\": 2\n",
    "}\n",
    "\n",
    "states = {\n",
    "    \"Healthy\": 0,\n",
    "    \"Fever\": 1\n",
    "}\n",
    "\n",
    "start_p = [0.6, 0.4]\n",
    "\n",
    "trans_p = np.array([[0.7, 0.3], [0.4, 0.6]])\n",
    "\n",
    "emit_p = np.array([[0.5, 0.4, 0.1], [0.1, 0.3, 0.6]])\n",
    "\n",
    "inputObs = ['normal', 'normal', 'dizzy']\n",
    "\n",
    "res = viterbi(states, obs, start_p, trans_p, emit_p, inputObs)\n",
    "\n",
    "print(res)\n",
    "##### [0, 0, 1,]\n"
   ]
  },
  {
   "cell_type": "code",
   "execution_count": 3,
   "id": "782110fb",
   "metadata": {},
   "outputs": [
    {
     "name": "stdout",
     "output_type": "stream",
     "text": [
      "Please provide your Kaggle credentials to download this dataset. Learn more: http://bit.ly/kaggle-creds\n",
      "Your Kaggle username: vasanth12\n",
      "Your Kaggle Key: ········\n",
      "Downloading pos-tagging.zip to .\\pos-tagging\n"
     ]
    },
    {
     "name": "stderr",
     "output_type": "stream",
     "text": [
      "100%|███████████████████████████████████████████████████████████████████████████████████████████| 2.50M/2.50M [00:03<00:00, 724kB/s]\n"
     ]
    },
    {
     "name": "stdout",
     "output_type": "stream",
     "text": [
      "\n"
     ]
    }
   ],
   "source": [
    "od.download('https://www.kaggle.com/datasets/yingxuhe/pos-tagging?select=sents.answer')"
   ]
  },
  {
   "cell_type": "code",
   "execution_count": 6,
   "id": "4435416c",
   "metadata": {},
   "outputs": [],
   "source": [
    "# import POS tagging dataset\n",
    "data = open('pos-tagging/sents.train', encoding='utf-8')"
   ]
  },
  {
   "cell_type": "code",
   "execution_count": 121,
   "id": "35b3d030",
   "metadata": {},
   "outputs": [],
   "source": [
    "def findStationaryDistrb(transitionProb, stationaryDist):\n",
    "    \n",
    "    for i in range(100):\n",
    "        stationaryDist = np.dot(transitionProb, stationaryDist)\n",
    "    return np.transpose(stationaryDist)\n",
    "    "
   ]
  },
  {
   "cell_type": "code",
   "execution_count": 122,
   "id": "f73c8097",
   "metadata": {},
   "outputs": [],
   "source": [
    "def findEmissionAndTransitionProb(\n",
    "    sentences, tags, states, observables, tagCount, wordCount, transmissionDist, transmissionProb, emissionDist, emissionProb\n",
    "):\n",
    "    # Distribution matrices   \n",
    "    for i in range(len(sentences)): \n",
    "        _ptag = 0\n",
    "        for j in range(len(sentence[i])):\n",
    "            _token = sentences[i][j]\n",
    "            _tag = tags[i][j]\n",
    "            \n",
    "            emissionDist[_tag][_token] += 1\n",
    "            transmissionDist[_ptag][_tag] += 1\n",
    "            \n",
    "            _ptag = _tag\n",
    "            \n",
    "    # Emission Probability martices\n",
    "    for i in range(tagCount):\n",
    "        _keys = list(states.keys())\n",
    "        _idx = list(filter(lambda x:states[x][\"index\"] == i, _keys))[0]\n",
    "        _count = states[_idx][\"count\"] \n",
    "        \n",
    "        for j in range(tagCount):\n",
    "            transmissionProb[j][i] = transmissionDist[j][i] / _count\n",
    "            \n",
    "    # Transmission Probability martices\n",
    "    for i in range(wordCount):\n",
    "        _keys = list(observables.keys())\n",
    "        _idx = list(filter(lambda x:observables[x][\"index\"] == i, _keys))[0]\n",
    "        _count = observables[_idx][\"count\"]\n",
    "        \n",
    "        for j in range(tagCount):\n",
    "            emissionProb[j][i] = emissionDist[j][i] / _count \n",
    "            \n",
    "            "
   ]
  },
  {
   "cell_type": "code",
   "execution_count": 123,
   "id": "c1ed55ee",
   "metadata": {},
   "outputs": [],
   "source": [
    "def featureExtraction(filename, states, observables):    \n",
    "    _sentences = []\n",
    "    _tags = []\n",
    "    \n",
    "    tagCount, wordCount = 0, 0\n",
    "    with open(filename) as data:\n",
    "        sentences = list(data)\n",
    "        \n",
    "        for sentence in sentences:\n",
    "            sentence = sentence.lower()\n",
    "            s = []\n",
    "            t = []\n",
    "            \n",
    "            for token in sentence.split(' '):\n",
    "                wAt = re.sub(r'\\n', '', token)\n",
    "                wAt = wAt.split('/')\n",
    "                word = wAt[0]\n",
    "                if observables.get(word) == None:\n",
    "                    observables[word] = {\n",
    "                        \"index\": wordCount,\n",
    "                        \"count\": 1\n",
    "                    }\n",
    "                    wordCount += 1\n",
    "                else:\n",
    "                    observables[word][\"count\"] += 1\n",
    "                s.append(observables[word][\"index\"])\n",
    "                \n",
    "                tag = wAt[-1]\n",
    "                if states.get(tag) == None:\n",
    "                    states[tag] = {\n",
    "                        \"index\": tagCount,\n",
    "                        \"count\": 1\n",
    "                    }\n",
    "                    tagCount += 1\n",
    "                else:\n",
    "                    states[tag][\"count\"] += 1\n",
    "                t.append(states[tag][\"index\"])\n",
    "            _sentences.append(s)\n",
    "            _tags.append(t)\n",
    "                    \n",
    "    return _sentences, _tags                "
   ]
  },
  {
   "cell_type": "code",
   "execution_count": 124,
   "id": "58dd9d6f",
   "metadata": {},
   "outputs": [
    {
     "name": "stdout",
     "output_type": "stream",
     "text": [
      "[ 1.  4. 19. 24.]\n"
     ]
    }
   ],
   "source": [
    "# Declaration of variables\n",
    "states = {}\n",
    "observables = {}\n",
    "\n",
    "# Extract features from data\n",
    "sentences, tags = featureExtraction('./pos-tagging/sents.train', states, observables)\n",
    "tagCount = len(states.keys())\n",
    "wordCount = len(observables.keys())\n",
    "\n",
    "# Probabilities Distribution\n",
    "transmissionDist = np.zeros((tagCount, tagCount))\n",
    "transmissionProb = np.zeros((tagCount, tagCount))\n",
    "emissionDist = np.zeros((tagCount, wordCount))\n",
    "emissionProb = np.zeros((tagCount, wordCount))\n",
    "\n",
    "findEmissionAndTransitionProb(\n",
    "    sentences, tags, states, observables, tagCount, wordCount, transmissionDist, transmissionProb, emissionDist, emissionProb\n",
    ")\n",
    "stationaryDist = transmissionProb\n",
    "\n",
    "# Stationary Probability distribution\n",
    "stationaryDist = findStationaryDistrb(transmissionProb, stationaryDist)\n",
    "\n",
    "# Prediction\n",
    "res = viterbi(states, observables, stationaryDist[0], transmissionProb, emissionProb, 'Rolls-Royce Motor Cars Inc. said it expects its U.S. sales to remain steady at about 1,200 cars in 1990 .')\n",
    "print(res)\n"
   ]
  },
  {
   "cell_type": "code",
   "execution_count": 119,
   "id": "da9029fe",
   "metadata": {},
   "outputs": [],
   "source": [
    "def viterbi(states, observables, stationaryTrans, transitionProbability, emissionProbability, inputSent):\n",
    "    \n",
    "    N = len(states.keys())\n",
    "    M = len(inputSent)\n",
    "    \n",
    "    t1 = np.zeros((N,M+1))\n",
    "    t2 = np.zeros((N,M+1))\n",
    "    \n",
    "    #y = lambda word:observables.get(word) in inputSent\n",
    "    y = []\n",
    "    for obs in inputSent.split(' '):    \n",
    "        if observables.get(obs) != None:\n",
    "            y.append(observables[obs][\"index\"])\n",
    "    \n",
    "    for i in range(N):\n",
    "        t1[i][0] = stationaryTrans[i] * emissionProbability[i][y[0]]\n",
    "\n",
    "    x = -1\n",
    "    for j in range(1, M+1):\n",
    "        for i in range(N):\n",
    "            _max = -1000\n",
    "            argmax = -1\n",
    "            for k in range(N):\n",
    "                try:\n",
    "                    abc = t1[k][j-1] * transitionProbability[k][i] * emissionProbability[i][y[j]]\n",
    "                    if _max < abc:\n",
    "                        _max = abc\n",
    "                        argmax = k\n",
    "                except:\n",
    "                    abc = t1[k][j-1]\n",
    "                    if _max < abc:\n",
    "                        _max = abc\n",
    "                        argmax = k\n",
    "            t1[i][j] = _max \n",
    "            t2[i][j] = argmax\n",
    "            x = argmax\n",
    "            \n",
    "    _inputLength = len(y)\n",
    "    res = np.zeros(_inputLength)\n",
    "    for i in range(_inputLength, 0, -1):\n",
    "        res[i-1] = t2[x][i]\n",
    "        x = int(res[i-1])\n",
    "        \n",
    "    return res\n",
    "        "
   ]
  },
  {
   "cell_type": "code",
   "execution_count": null,
   "id": "9f0b1336",
   "metadata": {},
   "outputs": [],
   "source": [
    "Rolls-Royce/NNP Motor/NNP Cars/NNPS Inc./NNP said/VBD it/PRP expects/VBZ its/PRP$ U.S./NNP sales/NNS to/TO remain/VB steady/JJ at/IN about/IN 1,200/CD cars/NNS in/IN 1990/CD ./."
   ]
  },
  {
   "cell_type": "code",
   "execution_count": 126,
   "id": "32149d71",
   "metadata": {},
   "outputs": [],
   "source": [
    "idxToTag = {}\n",
    "for _tag in states.keys():\n",
    "    _idx = states[_tag]['index']\n",
    "    idxToTag[_idx] = _tag "
   ]
  },
  {
   "cell_type": "code",
   "execution_count": 128,
   "id": "5ced5874",
   "metadata": {},
   "outputs": [],
   "source": [
    "def convertIndextoTAG(res):\n",
    "    tagRes = ''\n",
    "    for idx in res:\n",
    "        tagRes += idxToTag[idx] + ' '\n",
    "    return tagRes"
   ]
  },
  {
   "cell_type": "code",
   "execution_count": 132,
   "id": "d2e5c947",
   "metadata": {},
   "outputs": [
    {
     "name": "stdout",
     "output_type": "stream",
     "text": [
      "[ 2.  2. 10.  2. 15. 21. 19. 22.  2. 10. 17. 23. 24.  0.  0.  3. 10.  0.\n",
      "  3. 18.]\n",
      "nnp nnp nns nnp vbd prp vbz prp$ nnp nns to vb jj in in cd nns in cd . \n"
     ]
    }
   ],
   "source": [
    "res = viterbi(states, observables, stationaryDist[0], transmissionProb, emissionProb, 'rolls-royce motor cars inc. said it expects its u.s. sales to remain steady at about 1,200 cars in 1990 .')\n",
    "print(res)\n",
    "print(convertIndextoTAG(res))"
   ]
  },
  {
   "cell_type": "code",
   "execution_count": 133,
   "id": "a0069004",
   "metadata": {},
   "outputs": [
    {
     "data": {
      "text/plain": [
       "\"\\n??? What's next ???\\n    * Need to handle OOV\\n    * Validation\\n\""
      ]
     },
     "execution_count": 133,
     "metadata": {},
     "output_type": "execute_result"
    }
   ],
   "source": [
    "'''\n",
    "??? What's next ???\n",
    "    * Need to handle OOV\n",
    "    * Validation\n",
    "'''"
   ]
  },
  {
   "cell_type": "code",
   "execution_count": null,
   "id": "0f7cb808",
   "metadata": {},
   "outputs": [],
   "source": []
  }
 ],
 "metadata": {
  "kernelspec": {
   "display_name": "Python 3 (ipykernel)",
   "language": "python",
   "name": "python3"
  },
  "language_info": {
   "codemirror_mode": {
    "name": "ipython",
    "version": 3
   },
   "file_extension": ".py",
   "mimetype": "text/x-python",
   "name": "python",
   "nbconvert_exporter": "python",
   "pygments_lexer": "ipython3",
   "version": "3.8.1"
  }
 },
 "nbformat": 4,
 "nbformat_minor": 5
}
